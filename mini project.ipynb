{
 "cells": [
  {
   "cell_type": "code",
   "execution_count": 3,
   "id": "444d6612",
   "metadata": {},
   "outputs": [
    {
     "name": "stdout",
     "output_type": "stream",
     "text": [
      "enter first operatordivide\n",
      "enter first number3\n",
      "enter second number9\n",
      "0.3333333333333333\n"
     ]
    }
   ],
   "source": [
    "## mini project\n",
    "\n",
    "\n",
    "\n",
    "\n",
    "o = input(\"enter first operator\")\n",
    "x=float(input(\"enter first number\"))\n",
    "y=float(input(\"enter second number\"))\n",
    "def calculas(x,y):\n",
    "    if o == 'add':\n",
    "        \n",
    "        \n",
    "        \n",
    "        \n",
    "    \n",
    "        print(x + y)\n",
    "    \n",
    "    elif o == 'multi':\n",
    "        \n",
    "        print(x * y)\n",
    "        \n",
    "        \n",
    "    elif o =='divide':\n",
    "        \n",
    "        print(x / y)\n",
    "        \n",
    "        \n",
    "    else:\n",
    "        print(x - y)\n",
    "        \n",
    "        \n",
    "calculas(x,y)"
   ]
  },
  {
   "cell_type": "code",
   "execution_count": null,
   "id": "5af35f49",
   "metadata": {},
   "outputs": [],
   "source": []
  }
 ],
 "metadata": {
  "kernelspec": {
   "display_name": "Python 3 (ipykernel)",
   "language": "python",
   "name": "python3"
  },
  "language_info": {
   "codemirror_mode": {
    "name": "ipython",
    "version": 3
   },
   "file_extension": ".py",
   "mimetype": "text/x-python",
   "name": "python",
   "nbconvert_exporter": "python",
   "pygments_lexer": "ipython3",
   "version": "3.9.12"
  }
 },
 "nbformat": 4,
 "nbformat_minor": 5
}
